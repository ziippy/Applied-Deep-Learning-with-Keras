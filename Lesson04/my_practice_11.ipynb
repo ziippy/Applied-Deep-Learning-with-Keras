{
 "cells": [
  {
   "cell_type": "code",
   "execution_count": 1,
   "metadata": {},
   "outputs": [],
   "source": [
    "# 시뮬레이터 회귀 데이터 생성\n",
    "import numpy\n",
    "from sklearn.datasets import make_regression\n",
    "\n",
    "X, y = make_regression(n_samples=500, n_features=2, n_informative=2, noise=5, random_state=0)"
   ]
  },
  {
   "cell_type": "code",
   "execution_count": 2,
   "metadata": {},
   "outputs": [
    {
     "name": "stdout",
     "output_type": "stream",
     "text": [
      "Number of Examples in the Dataset :  500\n",
      "Number of Features for each example :  2\n",
      "Output Range = [-288.225754, 271.270135]\n"
     ]
    }
   ],
   "source": [
    "# 데이터 세트 크기 출력\n",
    "print(\"Number of Examples in the Dataset : \", X.shape[0])\n",
    "print(\"Number of Features for each example : \", X.shape[1])\n",
    "# 결과 범위 출력\n",
    "print(\"Output Range = [%f, %f]\" % (min(y), max(y)))"
   ]
  },
  {
   "cell_type": "markdown",
   "metadata": {},
   "source": [
    "예를 들어\n",
    "500일동안 특정 회사의 주가 정보 이고\n",
    "2가지 특성은 최근 이틀 동안 주간 변동 정보, 결과는 오늘의 주가 변동폭일 수 있다.\n",
    "목표는 이전 두 거래일의 변동폭을 기반으로, 특정 날짜의 해당 회사 주가를 예측하는 모델을 만들어 보자"
   ]
  },
  {
   "cell_type": "code",
   "execution_count": 3,
   "metadata": {},
   "outputs": [
    {
     "name": "stderr",
     "output_type": "stream",
     "text": [
      "Using TensorFlow backend.\n"
     ]
    }
   ],
   "source": [
    "from keras.models import Sequential\n",
    "from keras.layers import Dense, Activation\n",
    "\n",
    "# 케라스 모델을 리턴하는 함수 생성\n",
    "def build_model():\n",
    "    # 케라스 모델 구성\n",
    "    model = Sequential()\n",
    "    model.add(Dense(16, activation='relu', input_dim=2))\n",
    "    model.add(Dense(8, activation='relu'))\n",
    "    model.add(Dense(1))\n",
    "    # 모델 컴파일\n",
    "    model.compile(loss='mean_squared_error', optimizer='adam')\n",
    "    # 모델 리턴\n",
    "    return model"
   ]
  },
  {
   "cell_type": "code",
   "execution_count": 4,
   "metadata": {},
   "outputs": [],
   "source": [
    "# 케라스 래퍼와 사이킷런을 사용해, 모델을 위한 사이킷런 인터페이스를 만들어보자\n",
    "from keras.wrappers.scikit_learn import KerasRegressor\n",
    "YourModel = KerasRegressor(build_fn= build_model, epochs=300, batch_size=10, verbose=1)"
   ]
  },
  {
   "cell_type": "code",
   "execution_count": null,
   "metadata": {},
   "outputs": [],
   "source": []
  }
 ],
 "metadata": {
  "kernelspec": {
   "display_name": "Python 3",
   "language": "python",
   "name": "python3"
  },
  "language_info": {
   "codemirror_mode": {
    "name": "ipython",
    "version": 3
   },
   "file_extension": ".py",
   "mimetype": "text/x-python",
   "name": "python",
   "nbconvert_exporter": "python",
   "pygments_lexer": "ipython3",
   "version": "3.6.9"
  }
 },
 "nbformat": 4,
 "nbformat_minor": 4
}
