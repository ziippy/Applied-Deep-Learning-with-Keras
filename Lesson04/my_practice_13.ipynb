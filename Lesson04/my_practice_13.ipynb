{
 "cells": [
  {
   "cell_type": "code",
   "execution_count": 1,
   "metadata": {},
   "outputs": [
    {
     "name": "stdout",
     "output_type": "stream",
     "text": [
      "Number of Examples in the Dataset :  500\n",
      "Number of Features for each example :  2\n",
      "Output Range = [-288.225754, 271.270135]\n"
     ]
    }
   ],
   "source": [
    "# 시뮬레이터 회귀 데이터 생성\n",
    "import numpy\n",
    "from sklearn.datasets import make_regression\n",
    "\n",
    "X, y = make_regression(n_samples=500, n_features=2, n_informative=2, noise=5, random_state=0)\n",
    "# 데이터 세트 크기 출력\n",
    "print(\"Number of Examples in the Dataset : \", X.shape[0])\n",
    "print(\"Number of Features for each example : \", X.shape[1])\n",
    "# 결과 범위 출력\n",
    "print(\"Output Range = [%f, %f]\" % (min(y), max(y)))"
   ]
  },
  {
   "cell_type": "code",
   "execution_count": 2,
   "metadata": {},
   "outputs": [
    {
     "name": "stderr",
     "output_type": "stream",
     "text": [
      "Using TensorFlow backend.\n"
     ]
    }
   ],
   "source": [
    "from keras.models import Sequential\n",
    "from keras.layers import Dense, Activation\n",
    "\n",
    "# 케라스 모델을 리턴하는 함수 생성\n",
    "def build_model_1():\n",
    "    # 케라스 모델 구성\n",
    "    model = Sequential()\n",
    "    model.add(Dense(4, activation='relu', input_dim=2))\n",
    "    model.add(Dense(1))\n",
    "    # 모델 컴파일\n",
    "    model.compile(loss='mean_squared_error', optimizer='adam')\n",
    "    # 모델 리턴\n",
    "    return model\n",
    "\n",
    "def build_model_2():\n",
    "    # 케라스 모델 구성\n",
    "    model = Sequential()\n",
    "    model.add(Dense(8, activation='relu', input_dim=2))\n",
    "    model.add(Dense(1))\n",
    "    # 모델 컴파일\n",
    "    model.compile(loss='mean_squared_error', optimizer='adam')\n",
    "    # 모델 리턴\n",
    "    return model\n",
    "\n",
    "def build_model_3():\n",
    "    # 케라스 모델 구성\n",
    "    model = Sequential()\n",
    "    model.add(Dense(16, activation='relu', input_dim=2))\n",
    "    model.add(Dense(8, activation='relu'))\n",
    "    model.add(Dense(1))\n",
    "    # 모델 컴파일\n",
    "    model.compile(loss='mean_squared_error', optimizer='adam')\n",
    "    # 모델 리턴\n",
    "    return model"
   ]
  },
  {
   "cell_type": "code",
   "execution_count": 3,
   "metadata": {},
   "outputs": [
    {
     "name": "stdout",
     "output_type": "stream",
     "text": [
      "WARNING:tensorflow:From /home/ziippy/venv/lib/python3.6/site-packages/keras/backend/tensorflow_backend.py:66: The name tf.get_default_graph is deprecated. Please use tf.compat.v1.get_default_graph instead.\n",
      "\n",
      "WARNING:tensorflow:From /home/ziippy/venv/lib/python3.6/site-packages/keras/backend/tensorflow_backend.py:541: The name tf.placeholder is deprecated. Please use tf.compat.v1.placeholder instead.\n",
      "\n",
      "WARNING:tensorflow:From /home/ziippy/venv/lib/python3.6/site-packages/keras/backend/tensorflow_backend.py:4432: The name tf.random_uniform is deprecated. Please use tf.random.uniform instead.\n",
      "\n",
      "WARNING:tensorflow:From /home/ziippy/venv/lib/python3.6/site-packages/keras/optimizers.py:793: The name tf.train.Optimizer is deprecated. Please use tf.compat.v1.train.Optimizer instead.\n",
      "\n",
      "WARNING:tensorflow:From /home/ziippy/venv/lib/python3.6/site-packages/keras/backend/tensorflow_backend.py:1033: The name tf.assign_add is deprecated. Please use tf.compat.v1.assign_add instead.\n",
      "\n",
      "WARNING:tensorflow:From /home/ziippy/venv/lib/python3.6/site-packages/keras/backend/tensorflow_backend.py:1020: The name tf.assign is deprecated. Please use tf.compat.v1.assign instead.\n",
      "\n",
      "WARNING:tensorflow:From /home/ziippy/venv/lib/python3.6/site-packages/keras/backend/tensorflow_backend.py:3005: The name tf.Session is deprecated. Please use tf.compat.v1.Session instead.\n",
      "\n",
      "WARNING:tensorflow:From /home/ziippy/venv/lib/python3.6/site-packages/keras/backend/tensorflow_backend.py:190: The name tf.get_default_session is deprecated. Please use tf.compat.v1.get_default_session instead.\n",
      "\n",
      "WARNING:tensorflow:From /home/ziippy/venv/lib/python3.6/site-packages/keras/backend/tensorflow_backend.py:197: The name tf.ConfigProto is deprecated. Please use tf.compat.v1.ConfigProto instead.\n",
      "\n",
      "WARNING:tensorflow:From /home/ziippy/venv/lib/python3.6/site-packages/keras/backend/tensorflow_backend.py:207: The name tf.global_variables is deprecated. Please use tf.compat.v1.global_variables instead.\n",
      "\n",
      "WARNING:tensorflow:From /home/ziippy/venv/lib/python3.6/site-packages/keras/backend/tensorflow_backend.py:216: The name tf.is_variable_initialized is deprecated. Please use tf.compat.v1.is_variable_initialized instead.\n",
      "\n",
      "WARNING:tensorflow:From /home/ziippy/venv/lib/python3.6/site-packages/keras/backend/tensorflow_backend.py:223: The name tf.variables_initializer is deprecated. Please use tf.compat.v1.variables_initializer instead.\n",
      "\n"
     ]
    }
   ],
   "source": [
    "# 랜덤 넘버 생성자 시드 설정\n",
    "seed = 1\n",
    "numpy.random.seed(seed)\n",
    "# 각 모델에 대한 교차 검증 수행\n",
    "from keras.wrappers.scikit_learn import KerasRegressor\n",
    "from sklearn.model_selection import KFold\n",
    "from sklearn.model_selection import cross_val_score\n",
    "#\n",
    "results = []\n",
    "models = [build_model_1, build_model_2, build_model_3]\n",
    "# 3개 모델을 대상으로 반복\n",
    "for m in range(len(models)):\n",
    "    model = KerasRegressor(build_fn= models[m], epochs=300, batch_size=10, verbose=0)\n",
    "    kf = KFold(n_splits=3)\n",
    "    result = cross_val_score(model, X, y, cv=kf)\n",
    "    #\n",
    "    results.append(result)"
   ]
  },
  {
   "cell_type": "code",
   "execution_count": 4,
   "metadata": {},
   "outputs": [
    {
     "name": "stdout",
     "output_type": "stream",
     "text": [
      "Cross Validation Loss for Model 1 = 4039.5688106014973\n",
      "Cross Validation Loss for Model 2 = 189.20642704206054\n",
      "Cross Validation Loss for Model 3 = 26.44854514460037\n"
     ]
    }
   ],
   "source": [
    "# print the cross validation scores\n",
    "print(\"Cross Validation Loss for Model 1 =\", abs(results[0].mean()))\n",
    "print(\"Cross Validation Loss for Model 2 =\", abs(results[1].mean()))\n",
    "print(\"Cross Validation Loss for Model 3 =\", abs(results[2].mean()))"
   ]
  },
  {
   "cell_type": "code",
   "execution_count": 5,
   "metadata": {},
   "outputs": [],
   "source": [
    "# build_model_3 이 가장 좋으므로, 여기에서 이제 최적의 epocs 와 batch_size 를 구해보자\n",
    "# 결과를 재현할 수 있도록 랜덤 넘버 생성자 시드 설정\n",
    "seed = 1\n",
    "numpy.random.seed(seed)\n",
    "results = []\n",
    "epochs = [300, 350]\n",
    "batches = [10, 15]\n",
    "# epochs 와 batches 조합 반복 수행\n",
    "for e in range(len(epochs)):\n",
    "    for b in range(len(batches)):\n",
    "        model = KerasRegressor(build_fn= build_model_3, epochs=epochs[e], batch_size=batches[b], verbose=0)\n",
    "        kf = KFold(n_splits=3)\n",
    "        result = cross_val_score(model, X, y, cv=kf)\n",
    "        #\n",
    "        results.append(result)"
   ]
  },
  {
   "cell_type": "code",
   "execution_count": 6,
   "metadata": {},
   "outputs": [
    {
     "name": "stdout",
     "output_type": "stream",
     "text": [
      "batch_size = 10 , epochs = 300 , Test Loss = 26.178123007799282\n",
      "batch_size = 15 , epochs = 300 , Test Loss = 28.67553945424004\n",
      "batch_size = 10 , epochs = 350 , Test Loss = 25.79510752105456\n",
      "batch_size = 15 , epochs = 350 , Test Loss = 27.63913581366893\n"
     ]
    }
   ],
   "source": [
    "c = 0\n",
    "for e in range(len(epochs)):\n",
    "    for b in range(len(batches)):\n",
    "        print(\"batch_size =\", batches[b],\", epochs =\", epochs[e], \", Test Loss =\", abs(results[c].mean()))\n",
    "        c += 1"
   ]
  },
  {
   "cell_type": "code",
   "execution_count": 8,
   "metadata": {},
   "outputs": [],
   "source": [
    "# 적합한 batch_size 와 epochs 를 구했으므로, 이제 활성화 함수와 최적화 옵션을 구해보자\n",
    "def build_model_3(activation='relu', optimizer='adam'):\n",
    "    # 케라스 모델 구성\n",
    "    model = Sequential()\n",
    "    model.add(Dense(16, activation=activation, input_dim=2))\n",
    "    model.add(Dense(8, activation=activation))\n",
    "    model.add(Dense(1))\n",
    "    # 모델 컴파일\n",
    "    model.compile(loss='mean_squared_error', optimizer=optimizer)\n",
    "    # 모델 리턴\n",
    "    return model\n",
    "\n",
    "seed = 1\n",
    "numpy.random.seed(seed)\n",
    "results = []\n",
    "activations = ['relu', 'tanh']\n",
    "optimizers = ['sgd', 'adam', 'rmsprop']\n",
    "\n",
    "# activations 와 optimizers 조합 반복 수행\n",
    "for o in range(len(optimizers)):\n",
    "    for a in range(len(activations)):\n",
    "        optimizer = optimizers[o]\n",
    "        activation = activations[a]\n",
    "        model = KerasRegressor(build_fn= build_model_3, epochs=350, batch_size=10, verbose=0)\n",
    "        kf = KFold(n_splits=3)\n",
    "        result = cross_val_score(model, X, y, cv=kf)\n",
    "        #\n",
    "        results.append(result)"
   ]
  },
  {
   "cell_type": "code",
   "execution_count": 9,
   "metadata": {},
   "outputs": [
    {
     "name": "stdout",
     "output_type": "stream",
     "text": [
      "activation =  relu , optimizer =  sgd , Test Loss =  26.317021007561692\n",
      "activation =  tanh , optimizer =  sgd , Test Loss =  25.159642975593467\n",
      "activation =  relu , optimizer =  adam , Test Loss =  26.95529824909995\n",
      "activation =  tanh , optimizer =  adam , Test Loss =  26.243858001851546\n",
      "activation =  relu , optimizer =  rmsprop , Test Loss =  27.115181424322316\n",
      "activation =  tanh , optimizer =  rmsprop , Test Loss =  25.0981845816266\n"
     ]
    }
   ],
   "source": [
    "c = 0\n",
    "for o in range(len(optimizers)):\n",
    "    for a in range(len(activations)):\n",
    "        print(\"activation = \", activations[a],\", optimizer = \", optimizers[o], \", Test Loss = \", abs(results[c].mean()))\n",
    "        c += 1"
   ]
  },
  {
   "cell_type": "code",
   "execution_count": null,
   "metadata": {},
   "outputs": [],
   "source": []
  }
 ],
 "metadata": {
  "kernelspec": {
   "display_name": "Python 3",
   "language": "python",
   "name": "python3"
  },
  "language_info": {
   "codemirror_mode": {
    "name": "ipython",
    "version": 3
   },
   "file_extension": ".py",
   "mimetype": "text/x-python",
   "name": "python",
   "nbconvert_exporter": "python",
   "pygments_lexer": "ipython3",
   "version": "3.6.9"
  }
 },
 "nbformat": 4,
 "nbformat_minor": 4
}
