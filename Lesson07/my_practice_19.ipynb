{
 "cells": [
  {
   "cell_type": "code",
   "execution_count": 2,
   "metadata": {},
   "outputs": [],
   "source": [
    "from keras.models import Sequential\n",
    "from keras.layers import Conv2D, MaxPool2D, Flatten, Dense\n",
    "\n",
    "classifier = Sequential()\n",
    "classifier.add(Conv2D(32,(3,3), input_shape=(64,64,3), activation='relu'))\n",
    "classifier.add(MaxPool2D(2,2))\n",
    "classifier.add(Flatten())\n",
    "classifier.add(Dense(128, activation='relu'))\n",
    "classifier.add(Dense(1, activation='sigmoid'))\n",
    "\n",
    "# 컴파일\n",
    "classifier.compile(optimizer='adam', loss='binary_crossentropy', metrics=['accuracy'])"
   ]
  },
  {
   "cell_type": "code",
   "execution_count": 5,
   "metadata": {},
   "outputs": [],
   "source": [
    "# 이미지의 척도를 맞추고 이미지를 변환 해 처리할 준비\n",
    "from keras.preprocessing.image import ImageDataGenerator\n",
    "\n",
    "train_datagen = ImageDataGenerator(rescale=1./255, shear_range=0.2, zoom_range=0.2, horizontal_flip=True)\n",
    "test_datagen = ImageDataGenerator(rescale=1./255)"
   ]
  },
  {
   "cell_type": "code",
   "execution_count": 8,
   "metadata": {},
   "outputs": [
    {
     "name": "stdout",
     "output_type": "stream",
     "text": [
      "Found 20000 images belonging to 2 classes.\n",
      "Found 5000 images belonging to 2 classes.\n"
     ]
    }
   ],
   "source": [
    "training_set = train_datagen.flow_from_directory('Datasets/dataset/training_set', target_size=(64,64), batch_size=32, class_mode='binary')\n",
    "test_set = test_datagen.flow_from_directory('Datasets/dataset/test_set', target_size=(64,64), batch_size=32, class_mode='binary')"
   ]
  },
  {
   "cell_type": "code",
   "execution_count": 10,
   "metadata": {},
   "outputs": [
    {
     "name": "stdout",
     "output_type": "stream",
     "text": [
      "WARNING:tensorflow:From /home/ziippy/venv/lib/python3.6/site-packages/keras/backend/tensorflow_backend.py:1033: The name tf.assign_add is deprecated. Please use tf.compat.v1.assign_add instead.\n",
      "\n",
      "WARNING:tensorflow:From /home/ziippy/venv/lib/python3.6/site-packages/keras/backend/tensorflow_backend.py:1020: The name tf.assign is deprecated. Please use tf.compat.v1.assign instead.\n",
      "\n",
      "WARNING:tensorflow:From /home/ziippy/venv/lib/python3.6/site-packages/keras/backend/tensorflow_backend.py:3005: The name tf.Session is deprecated. Please use tf.compat.v1.Session instead.\n",
      "\n",
      "Epoch 1/2\n",
      "WARNING:tensorflow:From /home/ziippy/venv/lib/python3.6/site-packages/keras/backend/tensorflow_backend.py:190: The name tf.get_default_session is deprecated. Please use tf.compat.v1.get_default_session instead.\n",
      "\n",
      "WARNING:tensorflow:From /home/ziippy/venv/lib/python3.6/site-packages/keras/backend/tensorflow_backend.py:197: The name tf.ConfigProto is deprecated. Please use tf.compat.v1.ConfigProto instead.\n",
      "\n",
      "WARNING:tensorflow:From /home/ziippy/venv/lib/python3.6/site-packages/keras/backend/tensorflow_backend.py:207: The name tf.global_variables is deprecated. Please use tf.compat.v1.global_variables instead.\n",
      "\n",
      "WARNING:tensorflow:From /home/ziippy/venv/lib/python3.6/site-packages/keras/backend/tensorflow_backend.py:216: The name tf.is_variable_initialized is deprecated. Please use tf.compat.v1.is_variable_initialized instead.\n",
      "\n",
      "WARNING:tensorflow:From /home/ziippy/venv/lib/python3.6/site-packages/keras/backend/tensorflow_backend.py:223: The name tf.variables_initializer is deprecated. Please use tf.compat.v1.variables_initializer instead.\n",
      "\n",
      "  367/20000 [..............................] - ETA: 24:30 - loss: 0.6473 - acc: 0.6318"
     ]
    },
    {
     "name": "stderr",
     "output_type": "stream",
     "text": [
      "/home/ziippy/venv/lib/python3.6/site-packages/PIL/TiffImagePlugin.py:784: UserWarning: Possibly corrupt EXIF data.  Expecting to read 32 bytes but only got 0. Skipping tag 270\n",
      "  \" Skipping tag %s\" % (size, len(data), tag)\n",
      "/home/ziippy/venv/lib/python3.6/site-packages/PIL/TiffImagePlugin.py:784: UserWarning: Possibly corrupt EXIF data.  Expecting to read 5 bytes but only got 0. Skipping tag 271\n",
      "  \" Skipping tag %s\" % (size, len(data), tag)\n",
      "/home/ziippy/venv/lib/python3.6/site-packages/PIL/TiffImagePlugin.py:784: UserWarning: Possibly corrupt EXIF data.  Expecting to read 8 bytes but only got 0. Skipping tag 272\n",
      "  \" Skipping tag %s\" % (size, len(data), tag)\n",
      "/home/ziippy/venv/lib/python3.6/site-packages/PIL/TiffImagePlugin.py:784: UserWarning: Possibly corrupt EXIF data.  Expecting to read 8 bytes but only got 0. Skipping tag 282\n",
      "  \" Skipping tag %s\" % (size, len(data), tag)\n",
      "/home/ziippy/venv/lib/python3.6/site-packages/PIL/TiffImagePlugin.py:784: UserWarning: Possibly corrupt EXIF data.  Expecting to read 8 bytes but only got 0. Skipping tag 283\n",
      "  \" Skipping tag %s\" % (size, len(data), tag)\n",
      "/home/ziippy/venv/lib/python3.6/site-packages/PIL/TiffImagePlugin.py:784: UserWarning: Possibly corrupt EXIF data.  Expecting to read 20 bytes but only got 0. Skipping tag 306\n",
      "  \" Skipping tag %s\" % (size, len(data), tag)\n",
      "/home/ziippy/venv/lib/python3.6/site-packages/PIL/TiffImagePlugin.py:784: UserWarning: Possibly corrupt EXIF data.  Expecting to read 48 bytes but only got 0. Skipping tag 532\n",
      "  \" Skipping tag %s\" % (size, len(data), tag)\n",
      "/home/ziippy/venv/lib/python3.6/site-packages/PIL/TiffImagePlugin.py:802: UserWarning: Corrupt EXIF data.  Expecting to read 2 bytes but only got 0. \n",
      "  warnings.warn(str(msg))\n"
     ]
    },
    {
     "name": "stdout",
     "output_type": "stream",
     "text": [
      "20000/20000 [==============================] - 1507s 75ms/step - loss: 0.3839 - acc: 0.8225 - val_loss: 0.5945 - val_acc: 0.7790\n",
      "Epoch 2/2\n",
      "20000/20000 [==============================] - 1501s 75ms/step - loss: 0.1834 - acc: 0.9261 - val_loss: 0.9419 - val_acc: 0.7684\n"
     ]
    },
    {
     "data": {
      "text/plain": [
       "<keras.callbacks.History at 0x7f6a7cc080b8>"
      ]
     },
     "execution_count": 10,
     "metadata": {},
     "output_type": "execute_result"
    }
   ],
   "source": [
    "# 모델을 데이터에 피팅\n",
    "# 학습 세트에는 총 20,000 개의 이미지가 있으므로 steps_per_epoch 는 20000 으로 한다.\n",
    "# 테스트 세트에는 총 5,000 개의 이미지가 있으므로 validation_steps 는 5000 으로 한다.\n",
    "classifier.fit_generator(training_set, steps_per_epoch=20000, epochs=2, validation_data=test_set, validation_steps=5000)"
   ]
  },
  {
   "cell_type": "code",
   "execution_count": 11,
   "metadata": {},
   "outputs": [],
   "source": [
    "output = classifier.predict_generator(test_set, steps=5)"
   ]
  },
  {
   "cell_type": "code",
   "execution_count": 13,
   "metadata": {},
   "outputs": [
    {
     "data": {
      "text/plain": [
       "{'cats': 0, 'dogs': 1}"
      ]
     },
     "execution_count": 13,
     "metadata": {},
     "output_type": "execute_result"
    }
   ],
   "source": [
    "test_set.class_indices"
   ]
  },
  {
   "cell_type": "code",
   "execution_count": 16,
   "metadata": {},
   "outputs": [
    {
     "data": {
      "text/plain": [
       "array([[3.4897506e-02],\n",
       "       [9.9992323e-01],\n",
       "       [4.4793874e-02],\n",
       "       [9.5991361e-01],\n",
       "       [9.5508909e-01],\n",
       "       [3.9607286e-05],\n",
       "       [7.9572201e-05],\n",
       "       [9.9999988e-01],\n",
       "       [5.9016776e-01],\n",
       "       [9.9999988e-01],\n",
       "       [1.1398801e-01],\n",
       "       [9.9570668e-01],\n",
       "       [9.9981642e-01],\n",
       "       [8.8396645e-01],\n",
       "       [1.0000000e+00],\n",
       "       [1.8641505e-01],\n",
       "       [1.9205511e-03],\n",
       "       [9.9408495e-01],\n",
       "       [9.9405026e-01],\n",
       "       [1.5624923e-01],\n",
       "       [1.0000000e+00],\n",
       "       [5.4110289e-03],\n",
       "       [9.9979007e-01],\n",
       "       [9.5748901e-04],\n",
       "       [9.7773486e-01],\n",
       "       [1.0745019e-02],\n",
       "       [9.9957764e-01],\n",
       "       [9.9998999e-01],\n",
       "       [1.8950909e-02],\n",
       "       [2.9802322e-08],\n",
       "       [1.4565068e-01],\n",
       "       [5.8977306e-03],\n",
       "       [9.9999845e-01],\n",
       "       [5.0250596e-01],\n",
       "       [9.4777703e-01],\n",
       "       [2.0674914e-02],\n",
       "       [2.9802322e-07],\n",
       "       [9.9990594e-01],\n",
       "       [7.8328252e-03],\n",
       "       [9.9989551e-01],\n",
       "       [9.9972695e-01],\n",
       "       [9.9061942e-01],\n",
       "       [7.1000493e-01],\n",
       "       [1.0000000e+00],\n",
       "       [9.9999988e-01],\n",
       "       [9.9986911e-01],\n",
       "       [6.2286854e-06],\n",
       "       [1.0000000e+00],\n",
       "       [3.0380830e-01],\n",
       "       [2.2772118e-01],\n",
       "       [4.3299824e-02],\n",
       "       [6.7978466e-01],\n",
       "       [9.9987453e-01],\n",
       "       [8.9075673e-01],\n",
       "       [9.9998844e-01],\n",
       "       [9.9361598e-01],\n",
       "       [5.1617599e-01],\n",
       "       [8.5909402e-01],\n",
       "       [9.9997246e-01],\n",
       "       [0.0000000e+00],\n",
       "       [9.9924886e-01],\n",
       "       [9.9999988e-01],\n",
       "       [1.0932115e-01],\n",
       "       [9.9999797e-01],\n",
       "       [5.3502470e-02],\n",
       "       [9.9174249e-01],\n",
       "       [6.2411010e-02],\n",
       "       [9.9878156e-01],\n",
       "       [9.8021328e-03],\n",
       "       [6.6402525e-02],\n",
       "       [1.6465783e-04],\n",
       "       [9.9666250e-01],\n",
       "       [7.5725287e-01],\n",
       "       [9.9998903e-01],\n",
       "       [4.4008261e-01],\n",
       "       [1.5666455e-02],\n",
       "       [1.4958501e-02],\n",
       "       [0.0000000e+00],\n",
       "       [9.9999940e-01],\n",
       "       [9.9960583e-01],\n",
       "       [8.2559854e-01],\n",
       "       [9.3545580e-01],\n",
       "       [3.7006706e-02],\n",
       "       [2.5799870e-04],\n",
       "       [6.2117934e-02],\n",
       "       [9.7246349e-01],\n",
       "       [9.6221578e-01],\n",
       "       [9.8726487e-01],\n",
       "       [9.4771373e-01],\n",
       "       [2.4557114e-04],\n",
       "       [9.9993145e-01],\n",
       "       [9.9919605e-01],\n",
       "       [9.9999648e-01],\n",
       "       [1.9967556e-06],\n",
       "       [9.9997848e-01],\n",
       "       [1.0000000e+00],\n",
       "       [9.9999976e-01],\n",
       "       [8.0679297e-02],\n",
       "       [4.0902537e-01],\n",
       "       [2.3514032e-05],\n",
       "       [9.8226500e-01],\n",
       "       [5.3644180e-07],\n",
       "       [9.9985063e-01],\n",
       "       [1.4562249e-02],\n",
       "       [9.5520228e-01],\n",
       "       [0.0000000e+00],\n",
       "       [9.9495387e-01],\n",
       "       [8.3198500e-01],\n",
       "       [8.6602354e-01],\n",
       "       [1.4110506e-03],\n",
       "       [5.9881103e-01],\n",
       "       [7.7500772e-01],\n",
       "       [2.0772517e-03],\n",
       "       [9.9972904e-01],\n",
       "       [9.3314230e-01],\n",
       "       [6.7074782e-01],\n",
       "       [1.6847607e-01],\n",
       "       [9.9999452e-01],\n",
       "       [2.9372245e-02],\n",
       "       [9.9999976e-01],\n",
       "       [1.6367900e-01],\n",
       "       [7.2032213e-04],\n",
       "       [2.9275984e-02],\n",
       "       [9.3882680e-03],\n",
       "       [5.2154064e-05],\n",
       "       [1.0000000e+00],\n",
       "       [1.0000000e+00],\n",
       "       [7.3561072e-04],\n",
       "       [1.0000000e+00],\n",
       "       [7.3015690e-06],\n",
       "       [3.5167307e-01],\n",
       "       [9.6509707e-01],\n",
       "       [1.1563301e-05],\n",
       "       [9.9999356e-01],\n",
       "       [5.9521198e-04],\n",
       "       [0.0000000e+00],\n",
       "       [3.8189590e-01],\n",
       "       [9.9908638e-01],\n",
       "       [8.6857277e-01],\n",
       "       [7.5835341e-01],\n",
       "       [9.9980211e-01],\n",
       "       [8.6252731e-01],\n",
       "       [8.6549795e-01],\n",
       "       [3.6239624e-05],\n",
       "       [7.9597354e-01],\n",
       "       [2.3011237e-02],\n",
       "       [9.0023875e-03],\n",
       "       [9.9976659e-01],\n",
       "       [5.8743060e-03],\n",
       "       [9.9894905e-01],\n",
       "       [1.0000000e+00],\n",
       "       [1.4251471e-04],\n",
       "       [9.9655569e-01],\n",
       "       [8.4904402e-02],\n",
       "       [1.3332963e-03],\n",
       "       [9.9800289e-01],\n",
       "       [9.1195107e-06],\n",
       "       [5.8300316e-02],\n",
       "       [8.7919962e-01],\n",
       "       [3.5762787e-07]], dtype=float32)"
      ]
     },
     "execution_count": 16,
     "metadata": {},
     "output_type": "execute_result"
    }
   ],
   "source": [
    "output"
   ]
  },
  {
   "cell_type": "code",
   "execution_count": null,
   "metadata": {},
   "outputs": [],
   "source": []
  }
 ],
 "metadata": {
  "kernelspec": {
   "display_name": "Python 3",
   "language": "python",
   "name": "python3"
  },
  "language_info": {
   "codemirror_mode": {
    "name": "ipython",
    "version": 3
   },
   "file_extension": ".py",
   "mimetype": "text/x-python",
   "name": "python",
   "nbconvert_exporter": "python",
   "pygments_lexer": "ipython3",
   "version": "3.6.9"
  }
 },
 "nbformat": 4,
 "nbformat_minor": 4
}
