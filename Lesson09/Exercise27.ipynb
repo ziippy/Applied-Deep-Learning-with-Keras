{
 "cells": [
  {
   "cell_type": "markdown",
   "metadata": {},
   "source": [
    "##  Import Libraries & Process Data"
   ]
  },
  {
   "cell_type": "code",
   "execution_count": 1,
   "metadata": {},
   "outputs": [],
   "source": [
    "import numpy as np\n",
    "import matplotlib.pyplot as plt\n",
    "import pandas as pd"
   ]
  },
  {
   "cell_type": "code",
   "execution_count": 2,
   "metadata": {},
   "outputs": [
    {
     "data": {
      "text/html": [
       "<div>\n",
       "<style scoped>\n",
       "    .dataframe tbody tr th:only-of-type {\n",
       "        vertical-align: middle;\n",
       "    }\n",
       "\n",
       "    .dataframe tbody tr th {\n",
       "        vertical-align: top;\n",
       "    }\n",
       "\n",
       "    .dataframe thead th {\n",
       "        text-align: right;\n",
       "    }\n",
       "</style>\n",
       "<table border=\"1\" class=\"dataframe\">\n",
       "  <thead>\n",
       "    <tr style=\"text-align: right;\">\n",
       "      <th></th>\n",
       "      <th>Date</th>\n",
       "      <th>Open</th>\n",
       "      <th>High</th>\n",
       "      <th>Low</th>\n",
       "      <th>Close</th>\n",
       "      <th>Adj Close</th>\n",
       "      <th>Volume</th>\n",
       "    </tr>\n",
       "  </thead>\n",
       "  <tbody>\n",
       "    <tr>\n",
       "      <th>0</th>\n",
       "      <td>02-01-2014</td>\n",
       "      <td>79.382858</td>\n",
       "      <td>79.575714</td>\n",
       "      <td>78.860001</td>\n",
       "      <td>79.018570</td>\n",
       "      <td>66.964325</td>\n",
       "      <td>58671200</td>\n",
       "    </tr>\n",
       "    <tr>\n",
       "      <th>1</th>\n",
       "      <td>03-01-2014</td>\n",
       "      <td>78.980003</td>\n",
       "      <td>79.099998</td>\n",
       "      <td>77.204285</td>\n",
       "      <td>77.282860</td>\n",
       "      <td>65.493416</td>\n",
       "      <td>98116900</td>\n",
       "    </tr>\n",
       "    <tr>\n",
       "      <th>2</th>\n",
       "      <td>06-01-2014</td>\n",
       "      <td>76.778572</td>\n",
       "      <td>78.114288</td>\n",
       "      <td>76.228569</td>\n",
       "      <td>77.704285</td>\n",
       "      <td>65.850533</td>\n",
       "      <td>103152700</td>\n",
       "    </tr>\n",
       "    <tr>\n",
       "      <th>3</th>\n",
       "      <td>07-01-2014</td>\n",
       "      <td>77.760002</td>\n",
       "      <td>77.994286</td>\n",
       "      <td>76.845711</td>\n",
       "      <td>77.148575</td>\n",
       "      <td>65.379593</td>\n",
       "      <td>79302300</td>\n",
       "    </tr>\n",
       "    <tr>\n",
       "      <th>4</th>\n",
       "      <td>08-01-2014</td>\n",
       "      <td>76.972855</td>\n",
       "      <td>77.937141</td>\n",
       "      <td>76.955711</td>\n",
       "      <td>77.637146</td>\n",
       "      <td>65.793633</td>\n",
       "      <td>64632400</td>\n",
       "    </tr>\n",
       "  </tbody>\n",
       "</table>\n",
       "</div>"
      ],
      "text/plain": [
       "         Date       Open       High        Low      Close  Adj Close  \\\n",
       "0  02-01-2014  79.382858  79.575714  78.860001  79.018570  66.964325   \n",
       "1  03-01-2014  78.980003  79.099998  77.204285  77.282860  65.493416   \n",
       "2  06-01-2014  76.778572  78.114288  76.228569  77.704285  65.850533   \n",
       "3  07-01-2014  77.760002  77.994286  76.845711  77.148575  65.379593   \n",
       "4  08-01-2014  76.972855  77.937141  76.955711  77.637146  65.793633   \n",
       "\n",
       "      Volume  \n",
       "0   58671200  \n",
       "1   98116900  \n",
       "2  103152700  \n",
       "3   79302300  \n",
       "4   64632400  "
      ]
     },
     "execution_count": 2,
     "metadata": {},
     "output_type": "execute_result"
    }
   ],
   "source": [
    "dataset_training = pd.read_csv('AAPL_train.csv')\n",
    "dataset_training.head()\n"
   ]
  },
  {
   "cell_type": "code",
   "execution_count": 3,
   "metadata": {},
   "outputs": [
    {
     "data": {
      "text/plain": [
       "array([[ 79.382858],\n",
       "       [ 78.980003],\n",
       "       [ 76.778572],\n",
       "       ...,\n",
       "       [155.839996],\n",
       "       [157.5     ],\n",
       "       [158.529999]])"
      ]
     },
     "execution_count": 3,
     "metadata": {},
     "output_type": "execute_result"
    }
   ],
   "source": [
    "training_data = dataset_training.iloc[:, 1:2].values\n",
    "training_data"
   ]
  },
  {
   "cell_type": "code",
   "execution_count": 4,
   "metadata": {},
   "outputs": [
    {
     "data": {
      "text/plain": [
       "array([[0.05400437],\n",
       "       [0.05148716],\n",
       "       [0.03773165],\n",
       "       ...,\n",
       "       [0.53174205],\n",
       "       [0.54211448],\n",
       "       [0.54855037]])"
      ]
     },
     "execution_count": 4,
     "metadata": {},
     "output_type": "execute_result"
    }
   ],
   "source": [
    "from sklearn.preprocessing import MinMaxScaler\n",
    "sc = MinMaxScaler(feature_range = (0, 1))\n",
    "training_data_scaled = sc.fit_transform(training_data)\n",
    "\n",
    "training_data_scaled "
   ]
  },
  {
   "cell_type": "markdown",
   "metadata": {},
   "source": [
    "## Create Data Time Stamps & Rehape the Data"
   ]
  },
  {
   "cell_type": "code",
   "execution_count": 5,
   "metadata": {},
   "outputs": [],
   "source": [
    "X_train = []\n",
    "y_train = []\n",
    "for i in range(60, 1258):\n",
    "    X_train.append(training_data_scaled[i-60:i, 0])\n",
    "    y_train.append(training_data_scaled[i, 0])\n",
    "X_train, y_train = np.array(X_train), np.array(y_train)"
   ]
  },
  {
   "cell_type": "code",
   "execution_count": 6,
   "metadata": {},
   "outputs": [
    {
     "data": {
      "text/plain": [
       "array([[[0.05400437],\n",
       "        [0.05148716],\n",
       "        [0.03773165],\n",
       "        ...,\n",
       "        [0.04582785],\n",
       "        [0.04002572],\n",
       "        [0.03850823]],\n",
       "\n",
       "       [[0.05148716],\n",
       "        [0.03773165],\n",
       "        [0.04386406],\n",
       "        ...,\n",
       "        [0.04002572],\n",
       "        [0.03850823],\n",
       "        [0.03932056]],\n",
       "\n",
       "       [[0.03773165],\n",
       "        [0.04386406],\n",
       "        [0.03894562],\n",
       "        ...,\n",
       "        [0.03850823],\n",
       "        [0.03932056],\n",
       "        [0.03800839]],\n",
       "\n",
       "       ...,\n",
       "\n",
       "       [[0.98231691],\n",
       "        [0.97794302],\n",
       "        [0.99543867],\n",
       "        ...,\n",
       "        [0.53811549],\n",
       "        [0.48369155],\n",
       "        [0.48462887]],\n",
       "\n",
       "       [[0.97794302],\n",
       "        [0.99543867],\n",
       "        [1.        ],\n",
       "        ...,\n",
       "        [0.48369155],\n",
       "        [0.48462887],\n",
       "        [0.53174205]],\n",
       "\n",
       "       [[0.99543867],\n",
       "        [1.        ],\n",
       "        [0.98237946],\n",
       "        ...,\n",
       "        [0.48462887],\n",
       "        [0.53174205],\n",
       "        [0.54211448]]])"
      ]
     },
     "execution_count": 6,
     "metadata": {},
     "output_type": "execute_result"
    }
   ],
   "source": [
    "X_train = np.reshape(X_train, (X_train.shape[0], X_train.shape[1], 1))\n",
    "X_train\n",
    "\n"
   ]
  },
  {
   "cell_type": "markdown",
   "metadata": {},
   "source": [
    "## Create & Compile an RNN Architecure "
   ]
  },
  {
   "cell_type": "code",
   "execution_count": 7,
   "metadata": {},
   "outputs": [
    {
     "name": "stderr",
     "output_type": "stream",
     "text": [
      "Using TensorFlow backend.\n"
     ]
    }
   ],
   "source": [
    "from keras.models import Sequential\n",
    "from keras.layers import Dense\n",
    "from keras.layers import LSTM\n",
    "from keras.layers import Dropout\n"
   ]
  },
  {
   "cell_type": "code",
   "execution_count": 8,
   "metadata": {},
   "outputs": [
    {
     "name": "stdout",
     "output_type": "stream",
     "text": [
      "WARNING:tensorflow:From /home/ziippy/venv/lib/python3.6/site-packages/keras/backend/tensorflow_backend.py:66: The name tf.get_default_graph is deprecated. Please use tf.compat.v1.get_default_graph instead.\n",
      "\n"
     ]
    }
   ],
   "source": [
    "model = Sequential()"
   ]
  },
  {
   "cell_type": "code",
   "execution_count": 9,
   "metadata": {},
   "outputs": [
    {
     "name": "stdout",
     "output_type": "stream",
     "text": [
      "WARNING:tensorflow:From /home/ziippy/venv/lib/python3.6/site-packages/keras/backend/tensorflow_backend.py:541: The name tf.placeholder is deprecated. Please use tf.compat.v1.placeholder instead.\n",
      "\n",
      "WARNING:tensorflow:From /home/ziippy/venv/lib/python3.6/site-packages/keras/backend/tensorflow_backend.py:4432: The name tf.random_uniform is deprecated. Please use tf.random.uniform instead.\n",
      "\n"
     ]
    }
   ],
   "source": [
    "model.add(LSTM(units = 50, return_sequences = True, input_shape = (X_train.shape[1], 1)))\n",
    "\n",
    "\n",
    "# Adding a second LSTM layer and some Dropout regularisation\n",
    "model.add(LSTM(units = 50, return_sequences = True))\n",
    "\n",
    "\n",
    "# Adding a third LSTM layer and some Dropout regularisation\n",
    "model.add(LSTM(units = 50, return_sequences = True))\n",
    "\n",
    "\n",
    "# Adding a fourth LSTM layer and some Dropout regularisation\n",
    "model.add(LSTM(units = 50))\n",
    "\n",
    "\n",
    "# Adding the output layer\n",
    "model.add(Dense(units = 1))"
   ]
  },
  {
   "cell_type": "code",
   "execution_count": 10,
   "metadata": {},
   "outputs": [
    {
     "name": "stdout",
     "output_type": "stream",
     "text": [
      "WARNING:tensorflow:From /home/ziippy/venv/lib/python3.6/site-packages/keras/optimizers.py:793: The name tf.train.Optimizer is deprecated. Please use tf.compat.v1.train.Optimizer instead.\n",
      "\n",
      "WARNING:tensorflow:From /home/ziippy/venv/lib/python3.6/site-packages/tensorflow_core/python/ops/math_grad.py:1424: where (from tensorflow.python.ops.array_ops) is deprecated and will be removed in a future version.\n",
      "Instructions for updating:\n",
      "Use tf.where in 2.0, which has the same broadcast rule as np.where\n",
      "WARNING:tensorflow:From /home/ziippy/venv/lib/python3.6/site-packages/keras/backend/tensorflow_backend.py:1033: The name tf.assign_add is deprecated. Please use tf.compat.v1.assign_add instead.\n",
      "\n",
      "WARNING:tensorflow:From /home/ziippy/venv/lib/python3.6/site-packages/keras/backend/tensorflow_backend.py:1020: The name tf.assign is deprecated. Please use tf.compat.v1.assign instead.\n",
      "\n",
      "WARNING:tensorflow:From /home/ziippy/venv/lib/python3.6/site-packages/keras/backend/tensorflow_backend.py:3005: The name tf.Session is deprecated. Please use tf.compat.v1.Session instead.\n",
      "\n",
      "Epoch 1/100\n",
      "WARNING:tensorflow:From /home/ziippy/venv/lib/python3.6/site-packages/keras/backend/tensorflow_backend.py:190: The name tf.get_default_session is deprecated. Please use tf.compat.v1.get_default_session instead.\n",
      "\n",
      "WARNING:tensorflow:From /home/ziippy/venv/lib/python3.6/site-packages/keras/backend/tensorflow_backend.py:197: The name tf.ConfigProto is deprecated. Please use tf.compat.v1.ConfigProto instead.\n",
      "\n",
      "WARNING:tensorflow:From /home/ziippy/venv/lib/python3.6/site-packages/keras/backend/tensorflow_backend.py:207: The name tf.global_variables is deprecated. Please use tf.compat.v1.global_variables instead.\n",
      "\n",
      "WARNING:tensorflow:From /home/ziippy/venv/lib/python3.6/site-packages/keras/backend/tensorflow_backend.py:216: The name tf.is_variable_initialized is deprecated. Please use tf.compat.v1.is_variable_initialized instead.\n",
      "\n",
      "WARNING:tensorflow:From /home/ziippy/venv/lib/python3.6/site-packages/keras/backend/tensorflow_backend.py:223: The name tf.variables_initializer is deprecated. Please use tf.compat.v1.variables_initializer instead.\n",
      "\n",
      "1198/1198 [==============================] - 10s 8ms/step - loss: 0.0265\n",
      "Epoch 2/100\n",
      "1198/1198 [==============================] - 7s 6ms/step - loss: 0.0024\n",
      "Epoch 3/100\n",
      "1198/1198 [==============================] - 7s 6ms/step - loss: 0.0020\n",
      "Epoch 4/100\n",
      "1198/1198 [==============================] - 7s 6ms/step - loss: 0.0018\n",
      "Epoch 5/100\n",
      "1198/1198 [==============================] - 7s 6ms/step - loss: 0.0019\n",
      "Epoch 6/100\n",
      "1198/1198 [==============================] - 7s 6ms/step - loss: 0.0015\n",
      "Epoch 7/100\n",
      "1198/1198 [==============================] - 7s 6ms/step - loss: 0.0014\n",
      "Epoch 8/100\n",
      "1198/1198 [==============================] - 7s 6ms/step - loss: 0.0014\n",
      "Epoch 9/100\n",
      "1198/1198 [==============================] - 7s 6ms/step - loss: 0.0012\n",
      "Epoch 10/100\n",
      "1198/1198 [==============================] - 7s 6ms/step - loss: 0.0011\n",
      "Epoch 11/100\n",
      "1198/1198 [==============================] - 7s 6ms/step - loss: 0.0011\n",
      "Epoch 12/100\n",
      "1198/1198 [==============================] - 7s 6ms/step - loss: 0.0011\n",
      "Epoch 13/100\n",
      "1198/1198 [==============================] - 7s 6ms/step - loss: 0.0012\n",
      "Epoch 14/100\n",
      "1198/1198 [==============================] - 7s 6ms/step - loss: 0.0011\n",
      "Epoch 15/100\n",
      "1198/1198 [==============================] - 7s 6ms/step - loss: 9.9648e-04\n",
      "Epoch 16/100\n",
      "1198/1198 [==============================] - 7s 6ms/step - loss: 9.8467e-04\n",
      "Epoch 17/100\n",
      "1198/1198 [==============================] - 7s 6ms/step - loss: 9.7422e-04\n",
      "Epoch 18/100\n",
      "1198/1198 [==============================] - 7s 6ms/step - loss: 9.5531e-04\n",
      "Epoch 19/100\n",
      "1198/1198 [==============================] - 7s 6ms/step - loss: 0.0011\n",
      "Epoch 20/100\n",
      "1198/1198 [==============================] - 7s 6ms/step - loss: 0.0016\n",
      "Epoch 21/100\n",
      "1198/1198 [==============================] - 7s 6ms/step - loss: 8.8083e-04\n",
      "Epoch 22/100\n",
      "1198/1198 [==============================] - 7s 6ms/step - loss: 8.3102e-04\n",
      "Epoch 23/100\n",
      "1198/1198 [==============================] - 7s 6ms/step - loss: 8.7364e-04\n",
      "Epoch 24/100\n",
      "1198/1198 [==============================] - 7s 6ms/step - loss: 7.8421e-04\n",
      "Epoch 25/100\n",
      "1198/1198 [==============================] - 7s 6ms/step - loss: 8.3637e-04\n",
      "Epoch 26/100\n",
      "1198/1198 [==============================] - 7s 6ms/step - loss: 8.2865e-04\n",
      "Epoch 27/100\n",
      "1198/1198 [==============================] - 7s 6ms/step - loss: 0.0011\n",
      "Epoch 28/100\n",
      "1198/1198 [==============================] - 7s 6ms/step - loss: 8.3272e-04\n",
      "Epoch 29/100\n",
      "1198/1198 [==============================] - 7s 6ms/step - loss: 8.1983e-04\n",
      "Epoch 30/100\n",
      "1198/1198 [==============================] - 7s 6ms/step - loss: 6.4979e-04\n",
      "Epoch 31/100\n",
      "1198/1198 [==============================] - 7s 6ms/step - loss: 6.7943e-04\n",
      "Epoch 32/100\n",
      "1198/1198 [==============================] - 7s 6ms/step - loss: 6.0985e-04\n",
      "Epoch 33/100\n",
      "1198/1198 [==============================] - 7s 6ms/step - loss: 6.5750e-04\n",
      "Epoch 34/100\n",
      "1198/1198 [==============================] - 7s 6ms/step - loss: 6.2192e-04\n",
      "Epoch 35/100\n",
      "1198/1198 [==============================] - 7s 6ms/step - loss: 7.2145e-04\n",
      "Epoch 36/100\n",
      "1198/1198 [==============================] - 7s 6ms/step - loss: 6.0837e-04\n",
      "Epoch 37/100\n",
      "1198/1198 [==============================] - 7s 6ms/step - loss: 5.3015e-04\n",
      "Epoch 38/100\n",
      "1198/1198 [==============================] - 7s 6ms/step - loss: 6.0267e-04\n",
      "Epoch 39/100\n",
      "1198/1198 [==============================] - 7s 6ms/step - loss: 5.4096e-04\n",
      "Epoch 40/100\n",
      "1198/1198 [==============================] - 7s 6ms/step - loss: 5.5473e-04\n",
      "Epoch 41/100\n",
      "1198/1198 [==============================] - 7s 6ms/step - loss: 5.0053e-04\n",
      "Epoch 42/100\n",
      "1198/1198 [==============================] - 7s 6ms/step - loss: 5.5834e-04\n",
      "Epoch 43/100\n",
      "1198/1198 [==============================] - 7s 6ms/step - loss: 4.7391e-04\n",
      "Epoch 44/100\n",
      "1198/1198 [==============================] - 7s 6ms/step - loss: 4.3571e-04\n",
      "Epoch 45/100\n",
      "1198/1198 [==============================] - 7s 6ms/step - loss: 4.6315e-04\n",
      "Epoch 46/100\n",
      "1198/1198 [==============================] - 7s 6ms/step - loss: 4.3830e-04\n",
      "Epoch 47/100\n",
      "1198/1198 [==============================] - 7s 6ms/step - loss: 5.8903e-04\n",
      "Epoch 48/100\n",
      "1198/1198 [==============================] - 7s 6ms/step - loss: 4.9717e-04\n",
      "Epoch 49/100\n",
      "1198/1198 [==============================] - 7s 6ms/step - loss: 3.9281e-04\n",
      "Epoch 50/100\n",
      "1198/1198 [==============================] - 7s 6ms/step - loss: 4.3044e-04\n",
      "Epoch 51/100\n",
      "1198/1198 [==============================] - 7s 6ms/step - loss: 4.1755e-04\n",
      "Epoch 52/100\n",
      "1198/1198 [==============================] - 7s 6ms/step - loss: 3.8684e-04\n",
      "Epoch 53/100\n",
      "1198/1198 [==============================] - 7s 6ms/step - loss: 3.7665e-04\n",
      "Epoch 54/100\n",
      "1198/1198 [==============================] - 7s 6ms/step - loss: 3.4678e-04\n",
      "Epoch 55/100\n",
      "1198/1198 [==============================] - 7s 6ms/step - loss: 3.9343e-04\n",
      "Epoch 56/100\n",
      "1198/1198 [==============================] - 7s 6ms/step - loss: 3.5435e-04\n",
      "Epoch 57/100\n",
      "1198/1198 [==============================] - 7s 6ms/step - loss: 4.2176e-04\n",
      "Epoch 58/100\n",
      "1198/1198 [==============================] - 7s 6ms/step - loss: 3.8536e-04\n",
      "Epoch 59/100\n",
      "1198/1198 [==============================] - 7s 6ms/step - loss: 3.2539e-04\n",
      "Epoch 60/100\n",
      "1198/1198 [==============================] - 7s 6ms/step - loss: 3.7048e-04\n",
      "Epoch 61/100\n",
      "1198/1198 [==============================] - 7s 6ms/step - loss: 2.9956e-04A: 1s - loss: 2.8\n",
      "Epoch 62/100\n",
      "1198/1198 [==============================] - 7s 6ms/step - loss: 3.6413e-04\n",
      "Epoch 63/100\n",
      "1198/1198 [==============================] - 7s 6ms/step - loss: 3.1378e-04\n",
      "Epoch 64/100\n",
      "1198/1198 [==============================] - 7s 6ms/step - loss: 2.8986e-04\n",
      "Epoch 65/100\n",
      "1198/1198 [==============================] - 7s 6ms/step - loss: 3.7024e-04\n",
      "Epoch 66/100\n",
      "1198/1198 [==============================] - 7s 6ms/step - loss: 3.7849e-04\n",
      "Epoch 67/100\n",
      "1198/1198 [==============================] - 7s 6ms/step - loss: 2.9183e-04\n",
      "Epoch 68/100\n",
      "1198/1198 [==============================] - 7s 6ms/step - loss: 3.1590e-04\n",
      "Epoch 69/100\n"
     ]
    },
    {
     "name": "stdout",
     "output_type": "stream",
     "text": [
      "1198/1198 [==============================] - 7s 6ms/step - loss: 3.5261e-04\n",
      "Epoch 70/100\n",
      "1198/1198 [==============================] - 7s 6ms/step - loss: 3.2596e-04\n",
      "Epoch 71/100\n",
      "1198/1198 [==============================] - 7s 6ms/step - loss: 3.0092e-04\n",
      "Epoch 72/100\n",
      "1198/1198 [==============================] - 7s 6ms/step - loss: 2.6890e-04\n",
      "Epoch 73/100\n",
      "1198/1198 [==============================] - 7s 6ms/step - loss: 3.3862e-04\n",
      "Epoch 74/100\n",
      "1198/1198 [==============================] - 7s 6ms/step - loss: 3.1455e-04\n",
      "Epoch 75/100\n",
      "1198/1198 [==============================] - 7s 6ms/step - loss: 2.7774e-04\n",
      "Epoch 76/100\n",
      "1198/1198 [==============================] - 7s 6ms/step - loss: 2.7060e-04\n",
      "Epoch 77/100\n",
      "1198/1198 [==============================] - 7s 6ms/step - loss: 2.6404e-04\n",
      "Epoch 78/100\n",
      "1198/1198 [==============================] - 7s 6ms/step - loss: 2.5024e-04\n",
      "Epoch 79/100\n",
      "1198/1198 [==============================] - 7s 6ms/step - loss: 3.0860e-04\n",
      "Epoch 80/100\n",
      "1198/1198 [==============================] - 7s 6ms/step - loss: 2.8309e-04\n",
      "Epoch 81/100\n",
      "1198/1198 [==============================] - 7s 6ms/step - loss: 3.0384e-04\n",
      "Epoch 82/100\n",
      "1198/1198 [==============================] - 7s 6ms/step - loss: 2.4779e-04\n",
      "Epoch 83/100\n",
      "1198/1198 [==============================] - 7s 6ms/step - loss: 2.5647e-04\n",
      "Epoch 84/100\n",
      "1198/1198 [==============================] - 7s 6ms/step - loss: 3.4337e-04\n",
      "Epoch 85/100\n",
      "1198/1198 [==============================] - 7s 6ms/step - loss: 3.3137e-04\n",
      "Epoch 86/100\n",
      "1198/1198 [==============================] - 7s 6ms/step - loss: 3.6710e-04\n",
      "Epoch 87/100\n",
      "1198/1198 [==============================] - 7s 6ms/step - loss: 3.4192e-04\n",
      "Epoch 88/100\n",
      "1198/1198 [==============================] - 7s 6ms/step - loss: 2.9801e-04\n",
      "Epoch 89/100\n",
      "1198/1198 [==============================] - 7s 6ms/step - loss: 2.5049e-04\n",
      "Epoch 90/100\n",
      "1198/1198 [==============================] - 7s 6ms/step - loss: 2.7955e-04\n",
      "Epoch 91/100\n",
      "1198/1198 [==============================] - 7s 6ms/step - loss: 2.7800e-04\n",
      "Epoch 92/100\n",
      "1198/1198 [==============================] - 7s 6ms/step - loss: 2.4463e-04\n",
      "Epoch 93/100\n",
      "1198/1198 [==============================] - 7s 6ms/step - loss: 2.8618e-04\n",
      "Epoch 94/100\n",
      "1198/1198 [==============================] - 7s 6ms/step - loss: 2.4920e-04\n",
      "Epoch 95/100\n",
      "1198/1198 [==============================] - 7s 6ms/step - loss: 2.2531e-04\n",
      "Epoch 96/100\n",
      "1198/1198 [==============================] - 7s 6ms/step - loss: 2.2596e-04\n",
      "Epoch 97/100\n",
      "1198/1198 [==============================] - 7s 6ms/step - loss: 2.5218e-04\n",
      "Epoch 98/100\n",
      "1198/1198 [==============================] - 7s 6ms/step - loss: 2.6455e-04\n",
      "Epoch 99/100\n",
      "1198/1198 [==============================] - 7s 6ms/step - loss: 2.4084e-04\n",
      "Epoch 100/100\n",
      "1198/1198 [==============================] - 7s 6ms/step - loss: 2.4430e-04\n"
     ]
    },
    {
     "data": {
      "text/plain": [
       "<keras.callbacks.History at 0x7fda23432588>"
      ]
     },
     "execution_count": 10,
     "metadata": {},
     "output_type": "execute_result"
    }
   ],
   "source": [
    "# Compiling the RNN\n",
    "model.compile(optimizer = 'adam', loss = 'mean_squared_error')\n",
    "\n",
    "# Fitting the RNN to the Training set\n",
    "model.fit(X_train, y_train, epochs = 100, batch_size = 32)\n",
    "\n"
   ]
  },
  {
   "cell_type": "markdown",
   "metadata": {},
   "source": [
    "## Prepare the Test Data , Concatenate Test &  Train Datasets"
   ]
  },
  {
   "cell_type": "code",
   "execution_count": 11,
   "metadata": {},
   "outputs": [
    {
     "data": {
      "text/plain": [
       "array([[154.889999],\n",
       "       [143.979996],\n",
       "       [144.529999],\n",
       "       [148.699997],\n",
       "       [149.559998],\n",
       "       [151.289993],\n",
       "       [152.5     ],\n",
       "       [152.880005],\n",
       "       [150.850006],\n",
       "       [150.270004],\n",
       "       [153.080002],\n",
       "       [154.199997],\n",
       "       [157.5     ],\n",
       "       [156.410004],\n",
       "       [154.149994],\n",
       "       [154.110001],\n",
       "       [155.479996],\n",
       "       [155.789993],\n",
       "       [156.25    ],\n",
       "       [163.25    ],\n",
       "       [166.110001]])"
      ]
     },
     "execution_count": 11,
     "metadata": {},
     "output_type": "execute_result"
    }
   ],
   "source": [
    "dataset_testing = pd.read_csv(\"AAPL_test.csv\")\n",
    "actual_stock_price = dataset_testing.iloc[:, 1:2].values\n",
    "actual_stock_price"
   ]
  },
  {
   "cell_type": "code",
   "execution_count": 12,
   "metadata": {},
   "outputs": [],
   "source": [
    "total_data = pd.concat((dataset_training['Open'], dataset_testing['Open']), axis = 0)\n",
    "inputs = total_data[len(total_data) - len(dataset_testing) - 60:].values\n",
    "inputs = inputs.reshape(-1,1)\n",
    "inputs = sc.transform(inputs)\n",
    "X_test = []\n",
    "for i in range(60, 81):\n",
    "    X_test.append(inputs[i-60:i, 0])\n",
    "X_test = np.array(X_test)\n",
    "X_test = np.reshape(X_test, (X_test.shape[0], X_test.shape[1], 1))\n",
    "predicted_stock_price = model.predict(X_test)\n",
    "predicted_stock_price = sc.inverse_transform(predicted_stock_price)"
   ]
  },
  {
   "cell_type": "markdown",
   "metadata": {},
   "source": [
    "## Visualize the Results"
   ]
  },
  {
   "cell_type": "code",
   "execution_count": 13,
   "metadata": {},
   "outputs": [
    {
     "data": {
      "image/png": "[encoded data removed]",
      "text/plain": [
       "<Figure size 432x288 with 1 Axes>"
      ]
     },
     "metadata": {
      "needs_background": "light"
     },
     "output_type": "display_data"
    }
   ],
   "source": [
    "# Visualising the results\n",
    "plt.plot(actual_stock_price, color = 'green', label = 'Real Apple Stock Price',ls='--')\n",
    "plt.plot(predicted_stock_price, color = 'red', label = 'Predicted Apple Stock Price',ls='-')\n",
    "plt.title('Predicted Stock Price')\n",
    "plt.xlabel('Time in days')\n",
    "plt.ylabel('Real Stock Price')\n",
    "plt.legend()\n",
    "plt.show()"
   ]
  },
  {
   "cell_type": "code",
   "execution_count": null,
   "metadata": {},
   "outputs": [],
   "source": []
  }
 ],
 "metadata": {
  "kernelspec": {
   "display_name": "Python 3",
   "language": "python",
   "name": "python3"
  },
  "language_info": {
   "codemirror_mode": {
    "name": "ipython",
    "version": 3
   },
   "file_extension": ".py",
   "mimetype": "text/x-python",
   "name": "python",
   "nbconvert_exporter": "python",
   "pygments_lexer": "ipython3",
   "version": "3.6.9"
  }
 },
 "nbformat": 4,
 "nbformat_minor": 2
}
