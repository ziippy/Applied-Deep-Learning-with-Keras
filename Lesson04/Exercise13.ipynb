{
 "cells": [
  {
   "cell_type": "code",
   "execution_count": 1,
   "metadata": {},
   "outputs": [
    {
     "name": "stdout",
     "output_type": "stream",
     "text": [
      "Number of Examples in the Dataset =  500\n",
      "Number of Features for each example =  2\n",
      "Output Range = [-288.225754, 271.270135]\n"
     ]
    }
   ],
   "source": [
    "# create some simulated regression data\n",
    "import numpy\n",
    "from sklearn.datasets import make_regression\n",
    "X, y = make_regression(n_samples=500, n_features=2, n_informative=2, noise=5, random_state=0)\n",
    "\n",
    "# Print the sizes of the dataset\n",
    "print(\"Number of Examples in the Dataset = \", X.shape[0])\n",
    "print(\"Number of Features for each example = \", X.shape[1])\n",
    "# print output range\n",
    "print(\"Output Range = [%f, %f]\" %(min(y), max(y)))"
   ]
  },
  {
   "cell_type": "code",
   "execution_count": 2,
   "metadata": {},
   "outputs": [
    {
     "name": "stderr",
     "output_type": "stream",
     "text": [
      "Using TensorFlow backend.\n"
     ]
    }
   ],
   "source": [
    "# step 1\n",
    "# Defne the Keras models\n",
    "from keras.models import Sequential\n",
    "from keras.layers import Dense\n",
    "\n",
    "def build_model_1():\n",
    "    # build the Keras model_1\n",
    "    model = Sequential()\n",
    "    model.add(Dense(4, input_dim=2, activation='relu'))\n",
    "    model.add(Dense(1))\n",
    "    # Compile the model\n",
    "    model.compile(loss='mean_squared_error', optimizer='adam')\n",
    "    # return the model\n",
    "    return model\n",
    "\n",
    "def build_model_2():\n",
    "    # build the Keras model_2\n",
    "    model = Sequential()\n",
    "    model.add(Dense(8, input_dim=2, activation='relu'))\n",
    "    model.add(Dense(1))\n",
    "    # Compile the model\n",
    "    model.compile(loss='mean_squared_error', optimizer='adam')\n",
    "    # return the model\n",
    "    return model\n",
    "\n",
    "def build_model_3():\n",
    "    # build the Keras model_3\n",
    "    model = Sequential()\n",
    "    model.add(Dense(16, input_dim=2, activation='relu'))\n",
    "    model.add(Dense(8, activation='relu'))\n",
    "    model.add(Dense(1))\n",
    "    # Compile the model\n",
    "    model.compile(loss='mean_squared_error', optimizer='adam')\n",
    "    # return the model\n",
    "    return model"
   ]
  },
  {
   "cell_type": "code",
   "execution_count": 3,
   "metadata": {},
   "outputs": [],
   "source": [
    "# step 2\n",
    "# define a seed for random number generator so the result will be reproducible\n",
    "seed = 1\n",
    "numpy.random.seed(seed)\n",
    "# perform cross validation on each model\n",
    "from keras.wrappers.scikit_learn import KerasRegressor\n",
    "from sklearn.model_selection import KFold\n",
    "from sklearn.model_selection import cross_val_score\n",
    "results =[]\n",
    "models = [build_model_1, build_model_2, build_model_3]\n",
    "# loop over three models\n",
    "for m in range(len(models)):\n",
    "    model = KerasRegressor(build_fn=models[m], epochs=300, batch_size=10, verbose=0)\n",
    "    kf = KFold(n_splits=3)\n",
    "    result = cross_val_score(model, X, y, cv=kf)\n",
    "    results.append(result)"
   ]
  },
  {
   "cell_type": "code",
   "execution_count": 4,
   "metadata": {},
   "outputs": [
    {
     "name": "stdout",
     "output_type": "stream",
     "text": [
      "Cross Validation Loss for Model 1 = 4039.4971624321684\n",
      "Cross Validation Loss for Model 2 = 189.19754301641356\n",
      "Cross Validation Loss for Model 3 = 26.400964782187724\n"
     ]
    }
   ],
   "source": [
    "# step 3\n",
    "# print the cross validation scores\n",
    "print(\"Cross Validation Loss for Model 1 =\", abs(results[0].mean()))\n",
    "print(\"Cross Validation Loss for Model 2 =\", abs(results[1].mean()))\n",
    "print(\"Cross Validation Loss for Model 3 =\", abs(results[2].mean()))"
   ]
  },
  {
   "cell_type": "code",
   "execution_count": 5,
   "metadata": {},
   "outputs": [],
   "source": [
    "# 4\n",
    "# define a seed for random number generator so the result will be reproducible\n",
    "numpy.random.seed(seed)\n",
    "results =[]\n",
    "epochs = [300, 350]\n",
    "batches = [10, 15]\n",
    "\n",
    "# Loop over pairs of epochs and batch_size\n",
    "for e in range(len(epochs)):\n",
    "    for b in range(len(batches)):\n",
    "        model = KerasRegressor(build_fn= build_model_3, epochs= epochs[e], batch_size= batches[b], verbose=0)\n",
    "        kf = KFold(n_splits=3)\n",
    "        result = cross_val_score(model, X, y, cv=kf)\n",
    "        results.append(result)"
   ]
  },
  {
   "cell_type": "code",
   "execution_count": 6,
   "metadata": {},
   "outputs": [
    {
     "name": "stdout",
     "output_type": "stream",
     "text": [
      "batch_size = 10 , epochs = 300 , Test Loss = 26.264930088328608\n",
      "batch_size = 15 , epochs = 300 , Test Loss = 28.685517518077663\n",
      "batch_size = 10 , epochs = 350 , Test Loss = 25.695710466310718\n",
      "batch_size = 15 , epochs = 350 , Test Loss = 25.761238063949587\n"
     ]
    }
   ],
   "source": [
    "# 5\n",
    "# Print cross validation score for each possible pair of epochs, batch_size\n",
    "c = 0\n",
    "for e in range(len(epochs)):\n",
    "    for b in range(len(batches)):\n",
    "        print(\"batch_size =\", batches[b],\", epochs =\", epochs[e], \", Test Loss =\", abs(results[c].mean()))\n",
    "        c += 1"
   ]
  },
  {
   "cell_type": "code",
   "execution_count": 7,
   "metadata": {},
   "outputs": [],
   "source": [
    "# 6\n",
    "# Modify build_model_3 function\n",
    "def build_model_3(activation='relu', optimizer='adam'):\n",
    "    # build the Keras model_3\n",
    "    model = Sequential()\n",
    "    model.add(Dense(16, input_dim=2, activation=activation))\n",
    "    model.add(Dense(8, activation=activation))\n",
    "    model.add(Dense(1))\n",
    "    # Compile the model\n",
    "    model.compile(loss='mean_squared_error', optimizer=optimizer)\n",
    "    # return the model\n",
    "    return model\n",
    "\n",
    "results =[]\n",
    "activations = ['relu', 'tanh']\n",
    "optimizers = ['sgd', 'adam', 'rmsprop']\n",
    "\n",
    "# define a seed for random number generator so the result will be reproducible\n",
    "numpy.random.seed(seed)\n",
    "# Loop over pairs of activation and optimizer\n",
    "for o in range(len(optimizers)):\n",
    "    for a in range(len(activations)):\n",
    "        optimizer = optimizers[o]\n",
    "        activation = activations[a]\n",
    "        model = KerasRegressor(build_fn= build_model_3, epochs=350, batch_size=15, verbose=0)\n",
    "        kf = KFold(n_splits=3)\n",
    "        result = cross_val_score(model, X, y, cv=kf)\n",
    "        results.append(result)"
   ]
  },
  {
   "cell_type": "code",
   "execution_count": 8,
   "metadata": {},
   "outputs": [
    {
     "name": "stdout",
     "output_type": "stream",
     "text": [
      "activation =  relu , optimizer =  sgd , Test Loss =  27.48036775127323\n",
      "activation =  tanh , optimizer =  sgd , Test Loss =  25.692216749794227\n",
      "activation =  relu , optimizer =  adam , Test Loss =  27.608108422119944\n",
      "activation =  tanh , optimizer =  adam , Test Loss =  26.73038675214977\n",
      "activation =  relu , optimizer =  rmsprop , Test Loss =  26.72362163875697\n",
      "activation =  tanh , optimizer =  rmsprop , Test Loss =  25.832545044784336\n"
     ]
    }
   ],
   "source": [
    "# 7\n",
    "# Print cross validation score for each possible pair of optimizer, activation\n",
    "c = 0\n",
    "for o in range(len(optimizers)):\n",
    "    for a in range(len(activations)):\n",
    "        print(\"activation = \", activations[a],\", optimizer = \", optimizers[o], \", Test Loss = \", abs(results[c].mean()))\n",
    "        c += 1"
   ]
  }
 ],
 "metadata": {
  "kernelspec": {
   "display_name": "Python 3",
   "language": "python",
   "name": "python3"
  },
  "language_info": {
   "codemirror_mode": {
    "name": "ipython",
    "version": 3
   },
   "file_extension": ".py",
   "mimetype": "text/x-python",
   "name": "python",
   "nbconvert_exporter": "python",
   "pygments_lexer": "ipython3",
   "version": "3.6.9"
  }
 },
 "nbformat": 4,
 "nbformat_minor": 2
}
